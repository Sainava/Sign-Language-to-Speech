{
 "cells": [
  {
   "cell_type": "code",
   "execution_count": 8,
   "id": "52143623",
   "metadata": {},
   "outputs": [
    {
     "name": "stdout",
     "output_type": "stream",
     "text": [
      "Shape: (1036, 2)\n",
      "Columns: ['Word', 'Frames path']\n"
     ]
    },
    {
     "data": {
      "text/html": [
       "<div>\n",
       "<style scoped>\n",
       "    .dataframe tbody tr th:only-of-type {\n",
       "        vertical-align: middle;\n",
       "    }\n",
       "\n",
       "    .dataframe tbody tr th {\n",
       "        vertical-align: top;\n",
       "    }\n",
       "\n",
       "    .dataframe thead th {\n",
       "        text-align: right;\n",
       "    }\n",
       "</style>\n",
       "<table border=\"1\" class=\"dataframe\">\n",
       "  <thead>\n",
       "    <tr style=\"text-align: right;\">\n",
       "      <th></th>\n",
       "      <th>Word</th>\n",
       "      <th>Frames path</th>\n",
       "    </tr>\n",
       "  </thead>\n",
       "  <tbody>\n",
       "    <tr>\n",
       "      <th>0</th>\n",
       "      <td>A LOT</td>\n",
       "      <td>ISL_CSLRT_Corpus\\Frames_Word_Level\\A LOT\\A LOT...</td>\n",
       "    </tr>\n",
       "    <tr>\n",
       "      <th>1</th>\n",
       "      <td>A LOT</td>\n",
       "      <td>ISL_CSLRT_Corpus\\Frames_Word_Level\\A LOT\\A LOT...</td>\n",
       "    </tr>\n",
       "    <tr>\n",
       "      <th>2</th>\n",
       "      <td>A LOT</td>\n",
       "      <td>ISL_CSLRT_Corpus\\Frames_Word_Level\\A LOT\\A LOT...</td>\n",
       "    </tr>\n",
       "    <tr>\n",
       "      <th>3</th>\n",
       "      <td>A LOT</td>\n",
       "      <td>ISL_CSLRT_Corpus\\Frames_Word_Level\\A LOT\\A LOT...</td>\n",
       "    </tr>\n",
       "    <tr>\n",
       "      <th>4</th>\n",
       "      <td>ABUSE</td>\n",
       "      <td>ISL_CSLRT_Corpus\\Frames_Word_Level\\ABUSE\\ABUSE...</td>\n",
       "    </tr>\n",
       "  </tbody>\n",
       "</table>\n",
       "</div>"
      ],
      "text/plain": [
       "    Word                                        Frames path\n",
       "0  A LOT  ISL_CSLRT_Corpus\\Frames_Word_Level\\A LOT\\A LOT...\n",
       "1  A LOT  ISL_CSLRT_Corpus\\Frames_Word_Level\\A LOT\\A LOT...\n",
       "2  A LOT  ISL_CSLRT_Corpus\\Frames_Word_Level\\A LOT\\A LOT...\n",
       "3  A LOT  ISL_CSLRT_Corpus\\Frames_Word_Level\\A LOT\\A LOT...\n",
       "4  ABUSE  ISL_CSLRT_Corpus\\Frames_Word_Level\\ABUSE\\ABUSE..."
      ]
     },
     "execution_count": 8,
     "metadata": {},
     "output_type": "execute_result"
    }
   ],
   "source": [
    "import pandas as pd\n",
    "\n",
    "excel_path = \"../data/raw/ISL_CSLRT_Corpus/corpus_csv_files/ISL_CSLRT_Corpus_word_details.xlsx\"\n",
    "df = pd.read_excel(excel_path)\n",
    "\n",
    "print(\"Shape:\", df.shape)\n",
    "print(\"Columns:\", df.columns.tolist())\n",
    "df.head()\n"
   ]
  }
 ],
 "metadata": {
  "kernelspec": {
   "display_name": "isl-speech",
   "language": "python",
   "name": "python3"
  },
  "language_info": {
   "codemirror_mode": {
    "name": "ipython",
    "version": 3
   },
   "file_extension": ".py",
   "mimetype": "text/x-python",
   "name": "python",
   "nbconvert_exporter": "python",
   "pygments_lexer": "ipython3",
   "version": "3.9.23"
  }
 },
 "nbformat": 4,
 "nbformat_minor": 5
}
