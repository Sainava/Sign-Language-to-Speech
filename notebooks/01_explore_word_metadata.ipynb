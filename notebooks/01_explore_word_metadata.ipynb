{
 "cells": [
  {
   "cell_type": "markdown",
   "id": "6a4f3c8d",
   "metadata": {},
   "source": [
    "### ISL_CSLRT_Corpus_word_details.xlsx"
   ]
  },
  {
   "cell_type": "code",
   "execution_count": 1,
   "id": "52143623",
   "metadata": {},
   "outputs": [
    {
     "name": "stdout",
     "output_type": "stream",
     "text": [
      "Shape: (1036, 2)\n",
      "Columns: ['Word', 'Frames path']\n"
     ]
    },
    {
     "data": {
      "text/html": [
       "<div>\n",
       "<style scoped>\n",
       "    .dataframe tbody tr th:only-of-type {\n",
       "        vertical-align: middle;\n",
       "    }\n",
       "\n",
       "    .dataframe tbody tr th {\n",
       "        vertical-align: top;\n",
       "    }\n",
       "\n",
       "    .dataframe thead th {\n",
       "        text-align: right;\n",
       "    }\n",
       "</style>\n",
       "<table border=\"1\" class=\"dataframe\">\n",
       "  <thead>\n",
       "    <tr style=\"text-align: right;\">\n",
       "      <th></th>\n",
       "      <th>Word</th>\n",
       "      <th>Frames path</th>\n",
       "    </tr>\n",
       "  </thead>\n",
       "  <tbody>\n",
       "    <tr>\n",
       "      <th>0</th>\n",
       "      <td>A LOT</td>\n",
       "      <td>ISL_CSLRT_Corpus\\Frames_Word_Level\\A LOT\\A LOT...</td>\n",
       "    </tr>\n",
       "    <tr>\n",
       "      <th>1</th>\n",
       "      <td>A LOT</td>\n",
       "      <td>ISL_CSLRT_Corpus\\Frames_Word_Level\\A LOT\\A LOT...</td>\n",
       "    </tr>\n",
       "    <tr>\n",
       "      <th>2</th>\n",
       "      <td>A LOT</td>\n",
       "      <td>ISL_CSLRT_Corpus\\Frames_Word_Level\\A LOT\\A LOT...</td>\n",
       "    </tr>\n",
       "    <tr>\n",
       "      <th>3</th>\n",
       "      <td>A LOT</td>\n",
       "      <td>ISL_CSLRT_Corpus\\Frames_Word_Level\\A LOT\\A LOT...</td>\n",
       "    </tr>\n",
       "    <tr>\n",
       "      <th>4</th>\n",
       "      <td>ABUSE</td>\n",
       "      <td>ISL_CSLRT_Corpus\\Frames_Word_Level\\ABUSE\\ABUSE...</td>\n",
       "    </tr>\n",
       "  </tbody>\n",
       "</table>\n",
       "</div>"
      ],
      "text/plain": [
       "    Word                                        Frames path\n",
       "0  A LOT  ISL_CSLRT_Corpus\\Frames_Word_Level\\A LOT\\A LOT...\n",
       "1  A LOT  ISL_CSLRT_Corpus\\Frames_Word_Level\\A LOT\\A LOT...\n",
       "2  A LOT  ISL_CSLRT_Corpus\\Frames_Word_Level\\A LOT\\A LOT...\n",
       "3  A LOT  ISL_CSLRT_Corpus\\Frames_Word_Level\\A LOT\\A LOT...\n",
       "4  ABUSE  ISL_CSLRT_Corpus\\Frames_Word_Level\\ABUSE\\ABUSE..."
      ]
     },
     "execution_count": 1,
     "metadata": {},
     "output_type": "execute_result"
    }
   ],
   "source": [
    "import pandas as pd\n",
    "\n",
    "\n",
    "excel_path = \"../data/raw/ISL_CSLRT_Corpus/corpus_csv_files/ISL_CSLRT_Corpus_word_details.xlsx\"\n",
    "df = pd.read_excel(excel_path)\n",
    "\n",
    "print(\"Shape:\", df.shape)\n",
    "print(\"Columns:\", df.columns.tolist())\n",
    "df.head()\n"
   ]
  },
  {
   "cell_type": "markdown",
   "id": "4ee260cd",
   "metadata": {},
   "source": [
    "### ISL_CSLRT_Corpus_frame_details.xlsx"
   ]
  },
  {
   "cell_type": "code",
   "execution_count": 2,
   "id": "1eb90801",
   "metadata": {},
   "outputs": [
    {
     "name": "stdout",
     "output_type": "stream",
     "text": [
      "🟨 Frame-level details\n",
      "Shape: (18863, 2)\n",
      "Columns: ['Sentence', 'Frames path']\n"
     ]
    },
    {
     "data": {
      "text/html": [
       "<div>\n",
       "<style scoped>\n",
       "    .dataframe tbody tr th:only-of-type {\n",
       "        vertical-align: middle;\n",
       "    }\n",
       "\n",
       "    .dataframe tbody tr th {\n",
       "        vertical-align: top;\n",
       "    }\n",
       "\n",
       "    .dataframe thead th {\n",
       "        text-align: right;\n",
       "    }\n",
       "</style>\n",
       "<table border=\"1\" class=\"dataframe\">\n",
       "  <thead>\n",
       "    <tr style=\"text-align: right;\">\n",
       "      <th></th>\n",
       "      <th>Sentence</th>\n",
       "      <th>Frames path</th>\n",
       "    </tr>\n",
       "  </thead>\n",
       "  <tbody>\n",
       "    <tr>\n",
       "      <th>0</th>\n",
       "      <td>are you free today</td>\n",
       "      <td>ISL_CSLRT_Corpus\\Frames_Sentence_Level\\are you...</td>\n",
       "    </tr>\n",
       "    <tr>\n",
       "      <th>1</th>\n",
       "      <td>are you free today</td>\n",
       "      <td>ISL_CSLRT_Corpus\\Frames_Sentence_Level\\are you...</td>\n",
       "    </tr>\n",
       "    <tr>\n",
       "      <th>2</th>\n",
       "      <td>are you free today</td>\n",
       "      <td>ISL_CSLRT_Corpus\\Frames_Sentence_Level\\are you...</td>\n",
       "    </tr>\n",
       "    <tr>\n",
       "      <th>3</th>\n",
       "      <td>are you free today</td>\n",
       "      <td>ISL_CSLRT_Corpus\\Frames_Sentence_Level\\are you...</td>\n",
       "    </tr>\n",
       "    <tr>\n",
       "      <th>4</th>\n",
       "      <td>are you free today</td>\n",
       "      <td>ISL_CSLRT_Corpus\\Frames_Sentence_Level\\are you...</td>\n",
       "    </tr>\n",
       "  </tbody>\n",
       "</table>\n",
       "</div>"
      ],
      "text/plain": [
       "             Sentence                                        Frames path\n",
       "0  are you free today  ISL_CSLRT_Corpus\\Frames_Sentence_Level\\are you...\n",
       "1  are you free today  ISL_CSLRT_Corpus\\Frames_Sentence_Level\\are you...\n",
       "2  are you free today  ISL_CSLRT_Corpus\\Frames_Sentence_Level\\are you...\n",
       "3  are you free today  ISL_CSLRT_Corpus\\Frames_Sentence_Level\\are you...\n",
       "4  are you free today  ISL_CSLRT_Corpus\\Frames_Sentence_Level\\are you..."
      ]
     },
     "metadata": {},
     "output_type": "display_data"
    }
   ],
   "source": [
    "# Load frame metadata\n",
    "frame_details_path = \"../data/raw/ISL_CSLRT_Corpus/corpus_csv_files/ISL_CSLRT_Corpus_frame_details.xlsx\"\n",
    "frame_df = pd.read_excel(frame_details_path)\n",
    "\n",
    "print(\"🟨 Frame-level details\")\n",
    "print(\"Shape:\", frame_df.shape)\n",
    "print(\"Columns:\", frame_df.columns.tolist())\n",
    "display(frame_df.head())\n"
   ]
  },
  {
   "cell_type": "markdown",
   "id": "2c50c72b",
   "metadata": {},
   "source": [
    "### ISL_CSLRT_Corpus details.xlsx"
   ]
  },
  {
   "cell_type": "code",
   "execution_count": 3,
   "id": "c5998aa0",
   "metadata": {},
   "outputs": [
    {
     "name": "stdout",
     "output_type": "stream",
     "text": [
      "🟦 Sentence-level metadata\n",
      "Shape: (493, 2)\n",
      "Columns: ['Sentences', 'File location']\n"
     ]
    },
    {
     "data": {
      "text/html": [
       "<div>\n",
       "<style scoped>\n",
       "    .dataframe tbody tr th:only-of-type {\n",
       "        vertical-align: middle;\n",
       "    }\n",
       "\n",
       "    .dataframe tbody tr th {\n",
       "        vertical-align: top;\n",
       "    }\n",
       "\n",
       "    .dataframe thead th {\n",
       "        text-align: right;\n",
       "    }\n",
       "</style>\n",
       "<table border=\"1\" class=\"dataframe\">\n",
       "  <thead>\n",
       "    <tr style=\"text-align: right;\">\n",
       "      <th></th>\n",
       "      <th>Sentences</th>\n",
       "      <th>File location</th>\n",
       "    </tr>\n",
       "  </thead>\n",
       "  <tbody>\n",
       "    <tr>\n",
       "      <th>0</th>\n",
       "      <td>are you free today</td>\n",
       "      <td>ISL_CSLRT_Corpus\\Videos_Sentence_Level\\are you...</td>\n",
       "    </tr>\n",
       "    <tr>\n",
       "      <th>1</th>\n",
       "      <td>are you free today</td>\n",
       "      <td>ISL_CSLRT_Corpus\\Videos_Sentence_Level\\are you...</td>\n",
       "    </tr>\n",
       "    <tr>\n",
       "      <th>2</th>\n",
       "      <td>are you free today</td>\n",
       "      <td>ISL_CSLRT_Corpus\\Videos_Sentence_Level\\are you...</td>\n",
       "    </tr>\n",
       "    <tr>\n",
       "      <th>3</th>\n",
       "      <td>are you free today</td>\n",
       "      <td>ISL_CSLRT_Corpus\\Videos_Sentence_Level\\are you...</td>\n",
       "    </tr>\n",
       "    <tr>\n",
       "      <th>4</th>\n",
       "      <td>are you free today</td>\n",
       "      <td>ISL_CSLRT_Corpus\\Videos_Sentence_Level\\are you...</td>\n",
       "    </tr>\n",
       "  </tbody>\n",
       "</table>\n",
       "</div>"
      ],
      "text/plain": [
       "            Sentences                                      File location\n",
       "0  are you free today  ISL_CSLRT_Corpus\\Videos_Sentence_Level\\are you...\n",
       "1  are you free today  ISL_CSLRT_Corpus\\Videos_Sentence_Level\\are you...\n",
       "2  are you free today  ISL_CSLRT_Corpus\\Videos_Sentence_Level\\are you...\n",
       "3  are you free today  ISL_CSLRT_Corpus\\Videos_Sentence_Level\\are you...\n",
       "4  are you free today  ISL_CSLRT_Corpus\\Videos_Sentence_Level\\are you..."
      ]
     },
     "metadata": {},
     "output_type": "display_data"
    }
   ],
   "source": [
    "# Load sentence-level metadata\n",
    "corpus_details_path = \"../data/raw/ISL_CSLRT_Corpus/corpus_csv_files/ISL_CSLRT_Corpus details.xlsx\"\n",
    "corpus_df = pd.read_excel(corpus_details_path)\n",
    "\n",
    "print(\"🟦 Sentence-level metadata\")\n",
    "print(\"Shape:\", corpus_df.shape)\n",
    "print(\"Columns:\", corpus_df.columns.tolist())\n",
    "display(corpus_df.head())\n"
   ]
  },
  {
   "cell_type": "markdown",
   "id": "140d9c8b",
   "metadata": {},
   "source": [
    "### ISL Corpus sign glosses.csv"
   ]
  },
  {
   "cell_type": "code",
   "execution_count": 4,
   "id": "bd6e0a30",
   "metadata": {},
   "outputs": [
    {
     "name": "stdout",
     "output_type": "stream",
     "text": [
      "📘 Gloss-to-definition mapping\n",
      "Shape: (101, 2)\n",
      "Columns: ['Sentence', 'SIGN GLOSSES']\n"
     ]
    },
    {
     "data": {
      "text/html": [
       "<div>\n",
       "<style scoped>\n",
       "    .dataframe tbody tr th:only-of-type {\n",
       "        vertical-align: middle;\n",
       "    }\n",
       "\n",
       "    .dataframe tbody tr th {\n",
       "        vertical-align: top;\n",
       "    }\n",
       "\n",
       "    .dataframe thead th {\n",
       "        text-align: right;\n",
       "    }\n",
       "</style>\n",
       "<table border=\"1\" class=\"dataframe\">\n",
       "  <thead>\n",
       "    <tr style=\"text-align: right;\">\n",
       "      <th></th>\n",
       "      <th>Sentence</th>\n",
       "      <th>SIGN GLOSSES</th>\n",
       "    </tr>\n",
       "  </thead>\n",
       "  <tbody>\n",
       "    <tr>\n",
       "      <th>0</th>\n",
       "      <td>are you free today</td>\n",
       "      <td>YOU FREE TODAY</td>\n",
       "    </tr>\n",
       "    <tr>\n",
       "      <th>1</th>\n",
       "      <td>are you hiding something</td>\n",
       "      <td>YOU HIDE SOMETHING</td>\n",
       "    </tr>\n",
       "    <tr>\n",
       "      <th>2</th>\n",
       "      <td>bring water for me</td>\n",
       "      <td>BRING WATER ME</td>\n",
       "    </tr>\n",
       "    <tr>\n",
       "      <th>3</th>\n",
       "      <td>can i help you</td>\n",
       "      <td>I HELP YOU</td>\n",
       "    </tr>\n",
       "    <tr>\n",
       "      <th>4</th>\n",
       "      <td>can you repeat that please</td>\n",
       "      <td>YOU REPEAT PLEASE</td>\n",
       "    </tr>\n",
       "  </tbody>\n",
       "</table>\n",
       "</div>"
      ],
      "text/plain": [
       "                     Sentence        SIGN GLOSSES\n",
       "0          are you free today      YOU FREE TODAY\n",
       "1    are you hiding something  YOU HIDE SOMETHING\n",
       "2          bring water for me      BRING WATER ME\n",
       "3              can i help you          I HELP YOU\n",
       "4  can you repeat that please   YOU REPEAT PLEASE"
      ]
     },
     "metadata": {},
     "output_type": "display_data"
    }
   ],
   "source": [
    "# Load gloss-to-definition mapping\n",
    "gloss_csv_path = \"../data/raw/ISL_CSLRT_Corpus/corpus_csv_files/ISL Corpus sign glosses.csv\"\n",
    "gloss_df = pd.read_csv(gloss_csv_path)\n",
    "\n",
    "print(\"📘 Gloss-to-definition mapping\")\n",
    "print(\"Shape:\", gloss_df.shape)\n",
    "print(\"Columns:\", gloss_df.columns.tolist())\n",
    "display(gloss_df.head())\n"
   ]
  }
 ],
 "metadata": {
  "kernelspec": {
   "display_name": "isl-speech",
   "language": "python",
   "name": "python3"
  },
  "language_info": {
   "codemirror_mode": {
    "name": "ipython",
    "version": 3
   },
   "file_extension": ".py",
   "mimetype": "text/x-python",
   "name": "python",
   "nbconvert_exporter": "python",
   "pygments_lexer": "ipython3",
   "version": "3.9.23"
  }
 },
 "nbformat": 4,
 "nbformat_minor": 5
}
